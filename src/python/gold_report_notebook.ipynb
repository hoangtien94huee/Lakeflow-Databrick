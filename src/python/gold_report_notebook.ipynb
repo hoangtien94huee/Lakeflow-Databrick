{
 "cells": [
  {
   "cell_type": "markdown",
   "id": "62735ba2",
   "metadata": {},
   "source": [
    "# Gold Report - SQL Version\n",
    "\n",
    "This notebook creates reporting tables using DLT SQL syntax."
   ]
  },
  {
   "cell_type": "code",
   "execution_count": null,
   "id": "820189ec",
   "metadata": {},
   "outputs": [],
   "source": [
    "import dlt\n",
    "from pyspark.sql.functions import *"
   ]
  },
  {
   "cell_type": "code",
   "execution_count": null,
   "id": "b05e38cd",
   "metadata": {},
   "outputs": [],
   "source": [
    "@dlt.table(\n",
    "    name=\"gold_report_sql\",\n",
    "    comment=\"Detailed reporting metrics per category - SQL version\"\n",
    ")\n",
    "def gold_report_sql():\n",
    "    gold_df = dlt.read(\"gold_table\")\n",
    "    \n",
    "    # Calculate total sales across all categories\n",
    "    total_sales = gold_df.agg(sum(\"total_sales\")).collect()[0][0]\n",
    "    \n",
    "    # Add percentage and performance category\n",
    "    result = gold_df.withColumn(\n",
    "        \"sales_percentage\",\n",
    "        round((col(\"total_sales\") / lit(total_sales) * 100), 2)\n",
    "    ).withColumn(\n",
    "        \"performance_category\",\n",
    "        when(col(\"total_sales\") > lit(total_sales) * 0.25, \"High Performer\")\n",
    "        .when(col(\"total_sales\") > lit(total_sales) * 0.15, \"Medium Performer\")\n",
    "        .otherwise(\"Low Performer\")\n",
    "    )\n",
    "    \n",
    "    return result"
   ]
  },
  {
   "cell_type": "code",
   "execution_count": null,
   "id": "d74a89b4",
   "metadata": {},
   "outputs": [],
   "source": [
    "@dlt.table(\n",
    "    name=\"executive_summary\",\n",
    "    comment=\"Executive summary with overall business metrics\"\n",
    ")\n",
    "def executive_summary():\n",
    "    gold_df = dlt.read(\"gold_table\")\n",
    "    \n",
    "    summary = gold_df.agg(\n",
    "        sum(\"total_sales\").alias(\"total_revenue\"),\n",
    "        sum(\"total_transactions\").alias(\"total_transactions_count\"),\n",
    "        round(avg(\"avg_transaction_value\"), 2).alias(\"overall_avg_transaction_value\"),\n",
    "        sum(\"total_quantity_sold\").alias(\"total_items_sold\"),\n",
    "        countDistinct(\"category\").alias(\"total_categories\"),\n",
    "        min(\"first_transaction_date\").alias(\"business_start_date\"),\n",
    "        max(\"last_transaction_date\").alias(\"latest_transaction_date\")\n",
    "    )\n",
    "    \n",
    "    return summary"
   ]
  },
  {
   "cell_type": "code",
   "execution_count": null,
   "id": "77795738",
   "metadata": {},
   "outputs": [],
   "source": [
    "@dlt.table(\n",
    "    name=\"category_ranking\",\n",
    "    comment=\"Category performance rankings\"\n",
    ")\n",
    "def category_ranking():\n",
    "    from pyspark.sql.window import Window\n",
    "    \n",
    "    gold_df = dlt.read(\"gold_table\")\n",
    "    \n",
    "    # Create window spec for ranking\n",
    "    window_spec = Window.orderBy(col(\"total_sales\").desc())\n",
    "    \n",
    "    ranked = gold_df.withColumn(\n",
    "        \"sales_rank\",\n",
    "        rank().over(window_spec)\n",
    "    ).withColumn(\n",
    "        \"transaction_rank\",\n",
    "        rank().over(Window.orderBy(col(\"total_transactions\").desc()))\n",
    "    ).select(\n",
    "        \"category\",\n",
    "        \"sales_rank\",\n",
    "        \"transaction_rank\",\n",
    "        \"total_sales\",\n",
    "        \"total_transactions\",\n",
    "        \"avg_transaction_value\"\n",
    "    )\n",
    "    \n",
    "    return ranked"
   ]
  },
  {
   "cell_type": "markdown",
   "id": "f8f4d94b",
   "metadata": {},
   "source": [
    "## Verification\n",
    "\n",
    "Run these queries after pipeline completes:\n",
    "\n",
    "```sql\n",
    "SELECT * FROM main.demo.gold_report_sql;\n",
    "SELECT * FROM main.demo.executive_summary;\n",
    "SELECT * FROM main.demo.category_ranking;\n",
    "```"
   ]
  }
 ],
 "metadata": {
  "language_info": {
   "name": "python"
  }
 },
 "nbformat": 4,
 "nbformat_minor": 5
}
