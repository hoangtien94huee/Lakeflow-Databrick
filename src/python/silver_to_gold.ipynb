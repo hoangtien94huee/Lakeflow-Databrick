{
 "cells": [
  {
   "cell_type": "markdown",
   "id": "2a485448",
   "metadata": {},
   "source": [
    "# Silver to Gold Data Pipeline\n",
    "\n",
    "This notebook processes bronze data through silver layer (data cleaning) to gold layer (aggregations and business logic)."
   ]
  },
  {
   "cell_type": "code",
   "execution_count": null,
   "id": "41b77fa5",
   "metadata": {},
   "outputs": [],
   "source": [
    "import dlt\n",
    "from pyspark.sql.functions import *\n",
    "from pyspark.sql.types import *\n",
    "from pyspark.sql import SparkSession\n",
    "\n",
    "# Initialize Spark session\n",
    "spark = SparkSession.builder.appName(\"SilverToGold\").getOrCreate()"
   ]
  },
  {
   "cell_type": "code",
   "execution_count": null,
   "id": "155fc65b",
   "metadata": {},
   "outputs": [],
   "source": [
    "def filter_and_clean_bronze_data(bronze_df):\n",
    "    \"\"\"Filter và clean data\"\"\"\n",
    "    cleaned_df = bronze_df.select(\n",
    "        col(\"transaction_id\"),\n",
    "        to_date(col(\"date\"), \"yyyy-MM-dd\").alias(\"transaction_date\"),\n",
    "        upper(trim(col(\"category\"))).alias(\"category\"),\n",
    "        trim(col(\"product_name\")).alias(\"product_name\"),\n",
    "        col(\"sales_amount\"),\n",
    "        col(\"quantity\"),\n",
    "        col(\"customer_id\"),\n",
    "        col(\"ingestion_timestamp\")\n",
    "    ).filter(\n",
    "        # Filter out invalid records\n",
    "        (col(\"sales_amount\") > 0) &\n",
    "        (col(\"quantity\") > 0) &\n",
    "        (col(\"date\").isNotNull()) &\n",
    "        (col(\"category\").isNotNull()) &\n",
    "        (col(\"product_name\").isNotNull())\n",
    "    )\n",
    "    return cleaned_df"
   ]
  },
  {
   "cell_type": "code",
   "execution_count": null,
   "id": "d090b32a",
   "metadata": {},
   "outputs": [],
   "source": [
    "# Define the silver table - cleaned and standardized data\n",
    "@dlt.table(\n",
    "    name=\"silver_table\",\n",
    "    comment=\"Cleaned and standardized sales data\"\n",
    ")\n",
    "@dlt.expect_or_fail(\"valid_sales_amount\", \"sales_amount > 0\")\n",
    "@dlt.expect_or_fail(\"valid_quantity\", \"quantity > 0\")\n",
    "@dlt.expect_or_fail(\"valid_date\", \"transaction_date IS NOT NULL\")\n",
    "@dlt.expect_or_fail(\"valid_category\", \"category IS NOT NULL\")\n",
    "@dlt.expect_or_fail(\"valid_product\", \"product_name IS NOT NULL\")\n",
    "def silver_table():\n",
    "    # Read from bronze table\n",
    "    bronze_df = dlt.read(\"bronze_table\")\n",
    "    \n",
    "    cleaned_df = filter_and_clean_bronze_data(bronze_df)\n",
    "    \n",
    "    # Add calculated fields\n",
    "    silver_df = cleaned_df.withColumn(\n",
    "        \"total_amount\", col(\"sales_amount\") * col(\"quantity\")\n",
    "    ).withColumn(\n",
    "        \"processed_timestamp\", current_timestamp()\n",
    "    )\n",
    "    \n",
    "    return silver_df\n"
   ]
  },
  {
   "cell_type": "code",
   "execution_count": null,
   "id": "7d72658c",
   "metadata": {},
   "outputs": [],
   "source": [
    "# Define the gold table - aggregated business metrics\n",
    "@dlt.table(\n",
    "    name=\"gold_table\",\n",
    "    comment=\"Aggregated sales metrics by category\"\n",
    ")\n",
    "def gold_table():\n",
    "    # Read from silver table\n",
    "    silver_df = dlt.read(\"silver_table\")\n",
    "    \n",
    "    # Aggregate data by category\n",
    "    gold_df = silver_df.groupBy(\"category\").agg(\n",
    "        count(\"transaction_id\").alias(\"total_transactions\"),\n",
    "        sum(\"total_amount\").alias(\"total_sales\"),\n",
    "        avg(\"total_amount\").alias(\"avg_transaction_value\"),\n",
    "        sum(\"quantity\").alias(\"total_quantity_sold\"),\n",
    "        countDistinct(\"customer_id\").alias(\"unique_customers\"),\n",
    "        min(\"transaction_date\").alias(\"first_transaction_date\"),\n",
    "        max(\"transaction_date\").alias(\"last_transaction_date\")\n",
    "    ).withColumn(\n",
    "        \"calculation_timestamp\", current_timestamp()\n",
    "    ).withColumn(\n",
    "        \"avg_transaction_value\", round(col(\"avg_transaction_value\"), 2)\n",
    "    ).withColumn(\n",
    "        \"total_sales\", round(col(\"total_sales\"), 2)\n",
    "    )\n",
    "    \n",
    "    return gold_df"
   ]
  },
  {
   "cell_type": "code",
   "execution_count": null,
   "id": "6f77f535",
   "metadata": {},
   "outputs": [],
   "source": [
    "print(\"Silver to Gold pipeline setup complete.\")"
   ]
  }
 ],
 "metadata": {
  "language_info": {
   "name": "python"
  }
 },
 "nbformat": 4,
 "nbformat_minor": 5
}
